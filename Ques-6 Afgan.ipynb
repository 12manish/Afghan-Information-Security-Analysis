{
 "cells": [
  {
   "cell_type": "code",
   "execution_count": 2,
   "metadata": {},
   "outputs": [],
   "source": [
    "import numpy as np\n",
    "import pandas as pd\n",
    "import matplotlib.pyplot as plt                  # Importing required libraries\n",
    "%matplotlib inline\n",
    "import os\n",
    "import sklearn\n",
    "import warnings\n",
    "warnings.filterwarnings(\"ignore\")"
   ]
  },
  {
   "cell_type": "markdown",
   "metadata": {},
   "source": [
    "#### Importing Dataset"
   ]
  },
  {
   "cell_type": "code",
   "execution_count": 3,
   "metadata": {},
   "outputs": [
    {
     "name": "stderr",
     "output_type": "stream",
     "text": [
      "b'Skipping line 38554: expected 12 fields, saw 16\\nSkipping line 53649: expected 12 fields, saw 17\\nSkipping line 54548: expected 12 fields, saw 20\\n'\n"
     ]
    },
    {
     "data": {
      "text/html": [
       "<div>\n",
       "<style scoped>\n",
       "    .dataframe tbody tr th:only-of-type {\n",
       "        vertical-align: middle;\n",
       "    }\n",
       "\n",
       "    .dataframe tbody tr th {\n",
       "        vertical-align: top;\n",
       "    }\n",
       "\n",
       "    .dataframe thead th {\n",
       "        text-align: right;\n",
       "    }\n",
       "</style>\n",
       "<table border=\"1\" class=\"dataframe\">\n",
       "  <thead>\n",
       "    <tr style=\"text-align: right;\">\n",
       "      <th></th>\n",
       "      <th>MessageID</th>\n",
       "      <th>ThreadID</th>\n",
       "      <th>ThreadName</th>\n",
       "      <th>Date_Time</th>\n",
       "      <th>MemberID</th>\n",
       "      <th>MemberName</th>\n",
       "      <th>Message</th>\n",
       "      <th>P_Year</th>\n",
       "      <th>P_Month</th>\n",
       "      <th>P_Day</th>\n",
       "      <th>P_Date</th>\n",
       "      <th>ThreadFirstMessageID</th>\n",
       "    </tr>\n",
       "  </thead>\n",
       "  <tbody>\n",
       "    <tr>\n",
       "      <th>0</th>\n",
       "      <td>1000015</td>\n",
       "      <td>5536</td>\n",
       "      <td>Love Animals? Like George Clooney?Are hungry?</td>\n",
       "      <td>2009-03-14 17:32:00</td>\n",
       "      <td>339</td>\n",
       "      <td>Paradox\\t\\t\\t\\t\\t\\t\\t\\t\\t\\t\\t</td>\n",
       "      <td>I don't like celebrity news but this needed to...</td>\n",
       "      <td>2009</td>\n",
       "      <td>3</td>\n",
       "      <td>14</td>\n",
       "      <td>2009-03-14 17:32:00.000</td>\n",
       "      <td>1000015</td>\n",
       "    </tr>\n",
       "    <tr>\n",
       "      <th>1</th>\n",
       "      <td>1000038</td>\n",
       "      <td>5536</td>\n",
       "      <td>Love Animals? Like George Clooney?Are hungry?</td>\n",
       "      <td>2009-03-14 18:08:00</td>\n",
       "      <td>240</td>\n",
       "      <td>Filament\\t\\t\\t\\t\\t\\t\\t\\t\\t\\t\\t</td>\n",
       "      <td>Ew! \"Have courage for the great sorrows of lif...</td>\n",
       "      <td>2009</td>\n",
       "      <td>3</td>\n",
       "      <td>14</td>\n",
       "      <td>2009-03-14 18:08:00.000</td>\n",
       "      <td>1000015</td>\n",
       "    </tr>\n",
       "    <tr>\n",
       "      <th>2</th>\n",
       "      <td>1000069</td>\n",
       "      <td>5536</td>\n",
       "      <td>Love Animals? Like George Clooney?Are hungry?</td>\n",
       "      <td>2009-03-14 19:15:00</td>\n",
       "      <td>988</td>\n",
       "      <td>~*~JiLk@Y~*~\\t\\t\\t\\t\\t\\t\\t\\t\\t\\t\\t</td>\n",
       "      <td>what? I am a traveler seeking the truth, a hum...</td>\n",
       "      <td>2009</td>\n",
       "      <td>3</td>\n",
       "      <td>14</td>\n",
       "      <td>2009-03-14 19:15:00.000</td>\n",
       "      <td>1000015</td>\n",
       "    </tr>\n",
       "    <tr>\n",
       "      <th>3</th>\n",
       "      <td>1000099</td>\n",
       "      <td>5536</td>\n",
       "      <td>Love Animals? Like George Clooney?Are hungry?</td>\n",
       "      <td>2009-03-14 22:15:00</td>\n",
       "      <td>339</td>\n",
       "      <td>Paradox\\t\\t\\t\\t\\t\\t\\t\\t\\t\\t\\t</td>\n",
       "      <td>Well it is as good a time as any to throw the ...</td>\n",
       "      <td>2009</td>\n",
       "      <td>3</td>\n",
       "      <td>14</td>\n",
       "      <td>2009-03-14 22:15:00.000</td>\n",
       "      <td>1000015</td>\n",
       "    </tr>\n",
       "    <tr>\n",
       "      <th>4</th>\n",
       "      <td>1000132</td>\n",
       "      <td>5536</td>\n",
       "      <td>Love Animals? Like George Clooney?Are hungry?</td>\n",
       "      <td>2009-03-14 22:38:00</td>\n",
       "      <td>240</td>\n",
       "      <td>Filament\\t\\t\\t\\t\\t\\t\\t\\t\\t\\t\\t</td>\n",
       "      <td>Ew X infinity. \"Have courage for the great sor...</td>\n",
       "      <td>2009</td>\n",
       "      <td>3</td>\n",
       "      <td>14</td>\n",
       "      <td>2009-03-14 22:38:00.000</td>\n",
       "      <td>1000015</td>\n",
       "    </tr>\n",
       "  </tbody>\n",
       "</table>\n",
       "</div>"
      ],
      "text/plain": [
       "   MessageID  ThreadID                                     ThreadName  \\\n",
       "0    1000015      5536  Love Animals? Like George Clooney?Are hungry?   \n",
       "1    1000038      5536  Love Animals? Like George Clooney?Are hungry?   \n",
       "2    1000069      5536  Love Animals? Like George Clooney?Are hungry?   \n",
       "3    1000099      5536  Love Animals? Like George Clooney?Are hungry?   \n",
       "4    1000132      5536  Love Animals? Like George Clooney?Are hungry?   \n",
       "\n",
       "             Date_Time  MemberID                          MemberName  \\\n",
       "0  2009-03-14 17:32:00       339       Paradox\\t\\t\\t\\t\\t\\t\\t\\t\\t\\t\\t   \n",
       "1  2009-03-14 18:08:00       240      Filament\\t\\t\\t\\t\\t\\t\\t\\t\\t\\t\\t   \n",
       "2  2009-03-14 19:15:00       988  ~*~JiLk@Y~*~\\t\\t\\t\\t\\t\\t\\t\\t\\t\\t\\t   \n",
       "3  2009-03-14 22:15:00       339       Paradox\\t\\t\\t\\t\\t\\t\\t\\t\\t\\t\\t   \n",
       "4  2009-03-14 22:38:00       240      Filament\\t\\t\\t\\t\\t\\t\\t\\t\\t\\t\\t   \n",
       "\n",
       "                                             Message  P_Year  P_Month  P_Day  \\\n",
       "0  I don't like celebrity news but this needed to...    2009        3     14   \n",
       "1  Ew! \"Have courage for the great sorrows of lif...    2009        3     14   \n",
       "2  what? I am a traveler seeking the truth, a hum...    2009        3     14   \n",
       "3  Well it is as good a time as any to throw the ...    2009        3     14   \n",
       "4  Ew X infinity. \"Have courage for the great sor...    2009        3     14   \n",
       "\n",
       "                    P_Date  ThreadFirstMessageID  \n",
       "0  2009-03-14 17:32:00.000               1000015  \n",
       "1  2009-03-14 18:08:00.000               1000015  \n",
       "2  2009-03-14 19:15:00.000               1000015  \n",
       "3  2009-03-14 22:15:00.000               1000015  \n",
       "4  2009-03-14 22:38:00.000               1000015  "
      ]
     },
     "execution_count": 3,
     "metadata": {},
     "output_type": "execute_result"
    }
   ],
   "source": [
    "os.chdir(\"C:/Users/ABC/Desktop/Afgan Forum paper in R/afghanForum\")\n",
    "data=pd.read_csv(\"afghanForum.csv\",error_bad_lines=False)\n",
    "data.head()"
   ]
  },
  {
   "cell_type": "code",
   "execution_count": 4,
   "metadata": {},
   "outputs": [
    {
     "data": {
      "text/plain": [
       "(88032, 2)"
      ]
     },
     "execution_count": 4,
     "metadata": {},
     "output_type": "execute_result"
    }
   ],
   "source": [
    "dat=data[[\"MessageID\",\"Message\"]]\n",
    "dat.shape"
   ]
  },
  {
   "cell_type": "markdown",
   "metadata": {},
   "source": [
    "#### Sentiment analysis of message column in data"
   ]
  },
  {
   "cell_type": "code",
   "execution_count": 5,
   "metadata": {},
   "outputs": [],
   "source": [
    "from textblob import TextBlob\n",
    "import re\n",
    "import textblob"
   ]
  },
  {
   "cell_type": "code",
   "execution_count": 6,
   "metadata": {},
   "outputs": [],
   "source": [
    "def clean_text(text): \n",
    "        ''' \n",
    "        Utility function to clean text by removing links,\n",
    "        special characters using simple regex statements. \n",
    "        '''\n",
    "        return ' '.join(re.sub(\"(@[A-Za-z0-9]+)|([^0-9A-Za-z \\t])|(\\w+:\\/\\/\\S+)\", \" \", text).split()) \n",
    "\n",
    "def get_text_sentiment(text):\n",
    "    ''' \n",
    "    Utility function to classify sentiment of passed\n",
    "    text using textblob's sentiment method \n",
    "    '''\n",
    "    # create TextBlob object of passed text \n",
    "    analysis = TextBlob(clean_text(text)) \n",
    "    # set sentiment \n",
    "    if analysis.sentiment.polarity > 0: \n",
    "        return 'positive'\n",
    "    elif analysis.sentiment.polarity == 0: \n",
    "        return 'neutral'\n",
    "    else: \n",
    "        return 'negative'    "
   ]
  },
  {
   "cell_type": "code",
   "execution_count": 7,
   "metadata": {},
   "outputs": [
    {
     "data": {
      "text/html": [
       "<div>\n",
       "<style scoped>\n",
       "    .dataframe tbody tr th:only-of-type {\n",
       "        vertical-align: middle;\n",
       "    }\n",
       "\n",
       "    .dataframe tbody tr th {\n",
       "        vertical-align: top;\n",
       "    }\n",
       "\n",
       "    .dataframe thead th {\n",
       "        text-align: right;\n",
       "    }\n",
       "</style>\n",
       "<table border=\"1\" class=\"dataframe\">\n",
       "  <thead>\n",
       "    <tr style=\"text-align: right;\">\n",
       "      <th></th>\n",
       "      <th>MessageID</th>\n",
       "      <th>Message</th>\n",
       "      <th>Sentiment</th>\n",
       "    </tr>\n",
       "  </thead>\n",
       "  <tbody>\n",
       "    <tr>\n",
       "      <th>0</th>\n",
       "      <td>1000015</td>\n",
       "      <td>I don't like celebrity news but this needed to...</td>\n",
       "      <td>positive</td>\n",
       "    </tr>\n",
       "    <tr>\n",
       "      <th>1</th>\n",
       "      <td>1000038</td>\n",
       "      <td>Ew! \"Have courage for the great sorrows of lif...</td>\n",
       "      <td>positive</td>\n",
       "    </tr>\n",
       "    <tr>\n",
       "      <th>2</th>\n",
       "      <td>1000069</td>\n",
       "      <td>what? I am a traveler seeking the truth, a hum...</td>\n",
       "      <td>positive</td>\n",
       "    </tr>\n",
       "    <tr>\n",
       "      <th>3</th>\n",
       "      <td>1000099</td>\n",
       "      <td>Well it is as good a time as any to throw the ...</td>\n",
       "      <td>positive</td>\n",
       "    </tr>\n",
       "    <tr>\n",
       "      <th>4</th>\n",
       "      <td>1000132</td>\n",
       "      <td>Ew X infinity. \"Have courage for the great sor...</td>\n",
       "      <td>positive</td>\n",
       "    </tr>\n",
       "  </tbody>\n",
       "</table>\n",
       "</div>"
      ],
      "text/plain": [
       "   MessageID                                            Message Sentiment\n",
       "0    1000015  I don't like celebrity news but this needed to...  positive\n",
       "1    1000038  Ew! \"Have courage for the great sorrows of lif...  positive\n",
       "2    1000069  what? I am a traveler seeking the truth, a hum...  positive\n",
       "3    1000099  Well it is as good a time as any to throw the ...  positive\n",
       "4    1000132  Ew X infinity. \"Have courage for the great sor...  positive"
      ]
     },
     "execution_count": 7,
     "metadata": {},
     "output_type": "execute_result"
    }
   ],
   "source": [
    "sentiment = []\n",
    "for message in dat['Message']:\n",
    "    sentiment.append(get_text_sentiment(message))\n",
    "    \n",
    "dat[\"Sentiment\"] = sentiment\n",
    "dat.head()"
   ]
  },
  {
   "cell_type": "code",
   "execution_count": 8,
   "metadata": {},
   "outputs": [],
   "source": [
    "dat['Sentiment_Score'] = dat.Sentiment.map({'positive':1, 'negative':-1,'neutral':0})"
   ]
  },
  {
   "cell_type": "code",
   "execution_count": 9,
   "metadata": {},
   "outputs": [
    {
     "data": {
      "text/html": [
       "<div>\n",
       "<style scoped>\n",
       "    .dataframe tbody tr th:only-of-type {\n",
       "        vertical-align: middle;\n",
       "    }\n",
       "\n",
       "    .dataframe tbody tr th {\n",
       "        vertical-align: top;\n",
       "    }\n",
       "\n",
       "    .dataframe thead th {\n",
       "        text-align: right;\n",
       "    }\n",
       "</style>\n",
       "<table border=\"1\" class=\"dataframe\">\n",
       "  <thead>\n",
       "    <tr style=\"text-align: right;\">\n",
       "      <th></th>\n",
       "      <th>MessageID</th>\n",
       "      <th>Message</th>\n",
       "      <th>Sentiment</th>\n",
       "      <th>Sentiment_Score</th>\n",
       "    </tr>\n",
       "  </thead>\n",
       "  <tbody>\n",
       "    <tr>\n",
       "      <th>0</th>\n",
       "      <td>1000015</td>\n",
       "      <td>I don't like celebrity news but this needed to...</td>\n",
       "      <td>positive</td>\n",
       "      <td>1</td>\n",
       "    </tr>\n",
       "    <tr>\n",
       "      <th>1</th>\n",
       "      <td>1000038</td>\n",
       "      <td>Ew! \"Have courage for the great sorrows of lif...</td>\n",
       "      <td>positive</td>\n",
       "      <td>1</td>\n",
       "    </tr>\n",
       "    <tr>\n",
       "      <th>2</th>\n",
       "      <td>1000069</td>\n",
       "      <td>what? I am a traveler seeking the truth, a hum...</td>\n",
       "      <td>positive</td>\n",
       "      <td>1</td>\n",
       "    </tr>\n",
       "    <tr>\n",
       "      <th>3</th>\n",
       "      <td>1000099</td>\n",
       "      <td>Well it is as good a time as any to throw the ...</td>\n",
       "      <td>positive</td>\n",
       "      <td>1</td>\n",
       "    </tr>\n",
       "    <tr>\n",
       "      <th>4</th>\n",
       "      <td>1000132</td>\n",
       "      <td>Ew X infinity. \"Have courage for the great sor...</td>\n",
       "      <td>positive</td>\n",
       "      <td>1</td>\n",
       "    </tr>\n",
       "  </tbody>\n",
       "</table>\n",
       "</div>"
      ],
      "text/plain": [
       "   MessageID                                            Message Sentiment  \\\n",
       "0    1000015  I don't like celebrity news but this needed to...  positive   \n",
       "1    1000038  Ew! \"Have courage for the great sorrows of lif...  positive   \n",
       "2    1000069  what? I am a traveler seeking the truth, a hum...  positive   \n",
       "3    1000099  Well it is as good a time as any to throw the ...  positive   \n",
       "4    1000132  Ew X infinity. \"Have courage for the great sor...  positive   \n",
       "\n",
       "   Sentiment_Score  \n",
       "0                1  \n",
       "1                1  \n",
       "2                1  \n",
       "3                1  \n",
       "4                1  "
      ]
     },
     "execution_count": 9,
     "metadata": {},
     "output_type": "execute_result"
    }
   ],
   "source": [
    "dat.head()"
   ]
  },
  {
   "cell_type": "markdown",
   "metadata": {},
   "source": [
    "#### Converting text in Message column to lower case"
   ]
  },
  {
   "cell_type": "code",
   "execution_count": 10,
   "metadata": {},
   "outputs": [
    {
     "data": {
      "text/html": [
       "<div>\n",
       "<style scoped>\n",
       "    .dataframe tbody tr th:only-of-type {\n",
       "        vertical-align: middle;\n",
       "    }\n",
       "\n",
       "    .dataframe tbody tr th {\n",
       "        vertical-align: top;\n",
       "    }\n",
       "\n",
       "    .dataframe thead th {\n",
       "        text-align: right;\n",
       "    }\n",
       "</style>\n",
       "<table border=\"1\" class=\"dataframe\">\n",
       "  <thead>\n",
       "    <tr style=\"text-align: right;\">\n",
       "      <th></th>\n",
       "      <th>MessageID</th>\n",
       "      <th>Message</th>\n",
       "      <th>Sentiment</th>\n",
       "      <th>Sentiment_Score</th>\n",
       "    </tr>\n",
       "  </thead>\n",
       "  <tbody>\n",
       "    <tr>\n",
       "      <th>0</th>\n",
       "      <td>1000015</td>\n",
       "      <td>i don't like celebrity news but this needed to...</td>\n",
       "      <td>positive</td>\n",
       "      <td>1</td>\n",
       "    </tr>\n",
       "    <tr>\n",
       "      <th>1</th>\n",
       "      <td>1000038</td>\n",
       "      <td>ew! \"have courage for the great sorrows of lif...</td>\n",
       "      <td>positive</td>\n",
       "      <td>1</td>\n",
       "    </tr>\n",
       "    <tr>\n",
       "      <th>2</th>\n",
       "      <td>1000069</td>\n",
       "      <td>what? i am a traveler seeking the truth, a hum...</td>\n",
       "      <td>positive</td>\n",
       "      <td>1</td>\n",
       "    </tr>\n",
       "    <tr>\n",
       "      <th>3</th>\n",
       "      <td>1000099</td>\n",
       "      <td>well it is as good a time as any to throw the ...</td>\n",
       "      <td>positive</td>\n",
       "      <td>1</td>\n",
       "    </tr>\n",
       "    <tr>\n",
       "      <th>4</th>\n",
       "      <td>1000132</td>\n",
       "      <td>ew x infinity. \"have courage for the great sor...</td>\n",
       "      <td>positive</td>\n",
       "      <td>1</td>\n",
       "    </tr>\n",
       "  </tbody>\n",
       "</table>\n",
       "</div>"
      ],
      "text/plain": [
       "   MessageID                                            Message Sentiment  \\\n",
       "0    1000015  i don't like celebrity news but this needed to...  positive   \n",
       "1    1000038  ew! \"have courage for the great sorrows of lif...  positive   \n",
       "2    1000069  what? i am a traveler seeking the truth, a hum...  positive   \n",
       "3    1000099  well it is as good a time as any to throw the ...  positive   \n",
       "4    1000132  ew x infinity. \"have courage for the great sor...  positive   \n",
       "\n",
       "   Sentiment_Score  \n",
       "0                1  \n",
       "1                1  \n",
       "2                1  \n",
       "3                1  \n",
       "4                1  "
      ]
     },
     "execution_count": 10,
     "metadata": {},
     "output_type": "execute_result"
    }
   ],
   "source": [
    "dat['Message'] = [entry.lower() for entry in dat['Message']]\n",
    "dat.head()"
   ]
  },
  {
   "cell_type": "markdown",
   "metadata": {},
   "source": [
    "#### Removing punctuation and doing word tokenization of text data"
   ]
  },
  {
   "cell_type": "code",
   "execution_count": 11,
   "metadata": {},
   "outputs": [],
   "source": [
    "from nltk.tokenize import RegexpTokenizer\n",
    "tokenizer = RegexpTokenizer(r'\\w+')\n",
    "dat['Message']= [tokenizer.tokenize(entry) for entry in dat['Message']]"
   ]
  },
  {
   "cell_type": "code",
   "execution_count": 12,
   "metadata": {},
   "outputs": [],
   "source": [
    "dat['Message']=[\" \".join(content) for content in dat['Message'].values]"
   ]
  },
  {
   "cell_type": "markdown",
   "metadata": {},
   "source": [
    "#### Removing stop words"
   ]
  },
  {
   "cell_type": "code",
   "execution_count": 13,
   "metadata": {},
   "outputs": [],
   "source": [
    "from nltk.corpus import stopwords\n",
    "stop = stopwords.words('english')"
   ]
  },
  {
   "cell_type": "code",
   "execution_count": 14,
   "metadata": {},
   "outputs": [],
   "source": [
    "dat['Message']=dat['Message'].apply(lambda x: \" \".join(x for x in x.split() if x not in stop))"
   ]
  },
  {
   "cell_type": "code",
   "execution_count": 15,
   "metadata": {},
   "outputs": [
    {
     "data": {
      "text/html": [
       "<div>\n",
       "<style scoped>\n",
       "    .dataframe tbody tr th:only-of-type {\n",
       "        vertical-align: middle;\n",
       "    }\n",
       "\n",
       "    .dataframe tbody tr th {\n",
       "        vertical-align: top;\n",
       "    }\n",
       "\n",
       "    .dataframe thead th {\n",
       "        text-align: right;\n",
       "    }\n",
       "</style>\n",
       "<table border=\"1\" class=\"dataframe\">\n",
       "  <thead>\n",
       "    <tr style=\"text-align: right;\">\n",
       "      <th></th>\n",
       "      <th>MessageID</th>\n",
       "      <th>Message</th>\n",
       "      <th>Sentiment</th>\n",
       "      <th>Sentiment_Score</th>\n",
       "    </tr>\n",
       "  </thead>\n",
       "  <tbody>\n",
       "    <tr>\n",
       "      <th>0</th>\n",
       "      <td>1000015</td>\n",
       "      <td>like celebrity news needed told news link lett...</td>\n",
       "      <td>positive</td>\n",
       "      <td>1</td>\n",
       "    </tr>\n",
       "    <tr>\n",
       "      <th>1</th>\n",
       "      <td>1000038</td>\n",
       "      <td>ew courage great sorrows life patience small o...</td>\n",
       "      <td>positive</td>\n",
       "      <td>1</td>\n",
       "    </tr>\n",
       "    <tr>\n",
       "      <th>2</th>\n",
       "      <td>1000069</td>\n",
       "      <td>traveler seeking truth human searching meaning...</td>\n",
       "      <td>positive</td>\n",
       "      <td>1</td>\n",
       "    </tr>\n",
       "    <tr>\n",
       "      <th>3</th>\n",
       "      <td>1000099</td>\n",
       "      <td>well good time throw offer paypal account reas...</td>\n",
       "      <td>positive</td>\n",
       "      <td>1</td>\n",
       "    </tr>\n",
       "    <tr>\n",
       "      <th>4</th>\n",
       "      <td>1000132</td>\n",
       "      <td>ew x infinity courage great sorrows life patie...</td>\n",
       "      <td>positive</td>\n",
       "      <td>1</td>\n",
       "    </tr>\n",
       "  </tbody>\n",
       "</table>\n",
       "</div>"
      ],
      "text/plain": [
       "   MessageID                                            Message Sentiment  \\\n",
       "0    1000015  like celebrity news needed told news link lett...  positive   \n",
       "1    1000038  ew courage great sorrows life patience small o...  positive   \n",
       "2    1000069  traveler seeking truth human searching meaning...  positive   \n",
       "3    1000099  well good time throw offer paypal account reas...  positive   \n",
       "4    1000132  ew x infinity courage great sorrows life patie...  positive   \n",
       "\n",
       "   Sentiment_Score  \n",
       "0                1  \n",
       "1                1  \n",
       "2                1  \n",
       "3                1  \n",
       "4                1  "
      ]
     },
     "execution_count": 15,
     "metadata": {},
     "output_type": "execute_result"
    }
   ],
   "source": [
    "dat.head()"
   ]
  },
  {
   "cell_type": "markdown",
   "metadata": {},
   "source": [
    "#### Model Building"
   ]
  },
  {
   "cell_type": "code",
   "execution_count": 16,
   "metadata": {},
   "outputs": [],
   "source": [
    "from sklearn.feature_extraction.text import TfidfVectorizer\n",
    "from sklearn import model_selection, naive_bayes, svm\n",
    "from sklearn.metrics import accuracy_score,confusion_matrix,classification_report"
   ]
  },
  {
   "cell_type": "code",
   "execution_count": 17,
   "metadata": {},
   "outputs": [],
   "source": [
    "Y=dat[\"Sentiment_Score\"]"
   ]
  },
  {
   "cell_type": "markdown",
   "metadata": {},
   "source": [
    "#### Splitting data in train and test in 70:30"
   ]
  },
  {
   "cell_type": "code",
   "execution_count": 18,
   "metadata": {},
   "outputs": [],
   "source": [
    "Train_X, Test_X, Train_Y, Test_Y = model_selection.train_test_split(dat['Message'],Y,test_size=0.3)"
   ]
  },
  {
   "cell_type": "code",
   "execution_count": 19,
   "metadata": {},
   "outputs": [
    {
     "name": "stdout",
     "output_type": "stream",
     "text": [
      "(61622,) (26410,) (61622,) (26410,)\n"
     ]
    }
   ],
   "source": [
    "print(Train_X.shape,Test_X.shape,Train_Y.shape,Test_Y.shape)"
   ]
  },
  {
   "cell_type": "markdown",
   "metadata": {},
   "source": [
    "#### TFIDF Vectorizer of train and test data"
   ]
  },
  {
   "cell_type": "code",
   "execution_count": 20,
   "metadata": {},
   "outputs": [],
   "source": [
    "Tfidf_vect = TfidfVectorizer(stop_words='english')\n",
    "Train_X_Tfidf = Tfidf_vect.fit_transform(Train_X)\n",
    "Test_X_Tfidf = Tfidf_vect.transform(Test_X)"
   ]
  },
  {
   "cell_type": "markdown",
   "metadata": {},
   "source": [
    "#### Count vectorizer of train and test data"
   ]
  },
  {
   "cell_type": "code",
   "execution_count": 21,
   "metadata": {},
   "outputs": [],
   "source": [
    "from sklearn.feature_extraction.text import CountVectorizer\n",
    "count_vectorizer = CountVectorizer(stop_words='english')\n",
    "\n",
    "# Fit and transform the training data \n",
    "count_train = count_vectorizer.fit_transform(Train_X) \n",
    "\n",
    "# Transform the test set \n",
    "count_test = count_vectorizer.transform(Test_X)"
   ]
  },
  {
   "cell_type": "code",
   "execution_count": 22,
   "metadata": {},
   "outputs": [
    {
     "name": "stdout",
     "output_type": "stream",
     "text": [
      "(61622, 117175) (26410, 117175) (61622, 117175) (26410, 117175)\n"
     ]
    }
   ],
   "source": [
    "print(Train_X_Tfidf.shape,Test_X_Tfidf.shape,count_train.shape,count_test.shape)"
   ]
  },
  {
   "cell_type": "markdown",
   "metadata": {},
   "source": [
    "#### Random forest classifier on count vectorizer data"
   ]
  },
  {
   "cell_type": "code",
   "execution_count": 23,
   "metadata": {},
   "outputs": [
    {
     "name": "stdout",
     "output_type": "stream",
     "text": [
      "Random Forest Accuracy Score ->  66.90647482014388\n"
     ]
    }
   ],
   "source": [
    "from sklearn.ensemble import RandomForestClassifier\n",
    "rf= RandomForestClassifier(n_estimators=100, max_depth=2,random_state=0)\n",
    "rf.fit(count_train,Train_Y)\n",
    "predictions_rf = rf.predict(count_test)\n",
    "\n",
    "print(\"Random Forest Accuracy Score -> \",accuracy_score(predictions_rf, Test_Y)*100)"
   ]
  },
  {
   "cell_type": "code",
   "execution_count": 24,
   "metadata": {},
   "outputs": [
    {
     "data": {
      "text/plain": [
       "array([[    0,     0,  4328],\n",
       "       [    0,     0,  4412],\n",
       "       [    0,     0, 17670]], dtype=int64)"
      ]
     },
     "execution_count": 24,
     "metadata": {},
     "output_type": "execute_result"
    }
   ],
   "source": [
    "confusion_matrix(Test_Y, predictions_rf)"
   ]
  },
  {
   "cell_type": "markdown",
   "metadata": {},
   "source": [
    "#### Random forest classifier on TFIDF vectorizer data"
   ]
  },
  {
   "cell_type": "code",
   "execution_count": 27,
   "metadata": {},
   "outputs": [
    {
     "name": "stdout",
     "output_type": "stream",
     "text": [
      "Random Forest Accuracy Score ->  66.90647482014388\n"
     ]
    }
   ],
   "source": [
    "rf1= RandomForestClassifier(n_estimators=100, max_depth=2,random_state=0)\n",
    "rf1.fit(Train_X_Tfidf,Train_Y)\n",
    "predictions_rf1 = rf1.predict(Test_X_Tfidf)\n",
    "\n",
    "print(\"Random Forest Accuracy Score -> \",accuracy_score(predictions_rf1, Test_Y)*100)"
   ]
  },
  {
   "cell_type": "code",
   "execution_count": 28,
   "metadata": {},
   "outputs": [
    {
     "data": {
      "text/plain": [
       "array([[    0,     0,  4328],\n",
       "       [    0,     0,  4412],\n",
       "       [    0,     0, 17670]], dtype=int64)"
      ]
     },
     "execution_count": 28,
     "metadata": {},
     "output_type": "execute_result"
    }
   ],
   "source": [
    "confusion_matrix(Test_Y, predictions_rf1)"
   ]
  },
  {
   "cell_type": "markdown",
   "metadata": {},
   "source": [
    "####  Decision Tree classifier on count vectorizer data"
   ]
  },
  {
   "cell_type": "code",
   "execution_count": 29,
   "metadata": {},
   "outputs": [
    {
     "name": "stdout",
     "output_type": "stream",
     "text": [
      "Decision tree Accuracy Score ->  66.94055282090117\n"
     ]
    }
   ],
   "source": [
    "import sklearn.tree as tree\n",
    "dec_tree=tree.DecisionTreeClassifier(max_depth=3,random_state=0)\n",
    "dec_tree.fit(count_train,Train_Y)\n",
    "predictions_tree = dec_tree.predict(count_test)\n",
    "\n",
    "print(\"Decision tree Accuracy Score -> \",accuracy_score(predictions_tree, Test_Y)*100)"
   ]
  },
  {
   "cell_type": "code",
   "execution_count": 30,
   "metadata": {},
   "outputs": [
    {
     "name": "stdout",
     "output_type": "stream",
     "text": [
      "              precision    recall  f1-score   support\n",
      "\n",
      "          -1       0.60      0.01      0.01      4328\n",
      "           0       0.00      0.00      0.00      4412\n",
      "           1       0.67      1.00      0.80     17670\n",
      "\n",
      "   micro avg       0.67      0.67      0.67     26410\n",
      "   macro avg       0.42      0.34      0.27     26410\n",
      "weighted avg       0.55      0.67      0.54     26410\n",
      "\n"
     ]
    }
   ],
   "source": [
    "print(classification_report(Test_Y, predictions_tree))"
   ]
  },
  {
   "cell_type": "code",
   "execution_count": 31,
   "metadata": {},
   "outputs": [
    {
     "data": {
      "text/plain": [
       "array([[   26,     0,  4302],\n",
       "       [    0,     0,  4412],\n",
       "       [   17,     0, 17653]], dtype=int64)"
      ]
     },
     "execution_count": 31,
     "metadata": {},
     "output_type": "execute_result"
    }
   ],
   "source": [
    "confusion_matrix(Test_Y, predictions_tree)"
   ]
  },
  {
   "cell_type": "markdown",
   "metadata": {},
   "source": [
    "####  Decision Tree classifier on TFIDF vectorizer data"
   ]
  },
  {
   "cell_type": "code",
   "execution_count": 50,
   "metadata": {},
   "outputs": [
    {
     "name": "stdout",
     "output_type": "stream",
     "text": [
      "Decision tree Accuracy Score ->  67.16395304808785\n"
     ]
    }
   ],
   "source": [
    "dec_tree1=tree.DecisionTreeClassifier(max_depth=3,random_state=0)\n",
    "dec_tree1.fit(Train_X_Tfidf,Train_Y)\n",
    "predictions_tree1 = dec_tree1.predict(Test_X_Tfidf)\n",
    "\n",
    "print(\"Decision tree Accuracy Score -> \",accuracy_score(predictions_tree1, Test_Y)*100)"
   ]
  },
  {
   "cell_type": "code",
   "execution_count": 55,
   "metadata": {},
   "outputs": [
    {
     "name": "stdout",
     "output_type": "stream",
     "text": [
      "              precision    recall  f1-score   support\n",
      "\n",
      "          -1       0.52      0.01      0.01      4278\n",
      "           0       0.00      0.00      0.00      4397\n",
      "           1       0.67      1.00      0.80     17735\n",
      "\n",
      "   micro avg       0.67      0.67      0.67     26410\n",
      "   macro avg       0.40      0.33      0.27     26410\n",
      "weighted avg       0.54      0.67      0.54     26410\n",
      "\n"
     ]
    }
   ],
   "source": [
    "print(classification_report(Test_Y, predictions_tree1))"
   ]
  },
  {
   "cell_type": "code",
   "execution_count": 56,
   "metadata": {},
   "outputs": [
    {
     "data": {
      "text/plain": [
       "array([[   25,     0,  4253],\n",
       "       [    1,     0,  4396],\n",
       "       [   22,     0, 17713]], dtype=int64)"
      ]
     },
     "execution_count": 56,
     "metadata": {},
     "output_type": "execute_result"
    }
   ],
   "source": [
    "confusion_matrix(Test_Y, predictions_tree1)"
   ]
  },
  {
   "cell_type": "code",
   "execution_count": null,
   "metadata": {},
   "outputs": [],
   "source": []
  }
 ],
 "metadata": {
  "kernelspec": {
   "display_name": "Python 3",
   "language": "python",
   "name": "python3"
  },
  "language_info": {
   "codemirror_mode": {
    "name": "ipython",
    "version": 3
   },
   "file_extension": ".py",
   "mimetype": "text/x-python",
   "name": "python",
   "nbconvert_exporter": "python",
   "pygments_lexer": "ipython3",
   "version": "3.7.1"
  }
 },
 "nbformat": 4,
 "nbformat_minor": 2
}
