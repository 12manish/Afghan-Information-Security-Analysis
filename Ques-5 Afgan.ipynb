{
 "cells": [
  {
   "cell_type": "code",
   "execution_count": 1,
   "metadata": {},
   "outputs": [],
   "source": [
    "import numpy as np\n",
    "import pandas as pd\n",
    "import matplotlib.pyplot as plt                  # Importing required libraries\n",
    "%matplotlib inline\n",
    "import os\n",
    "import sklearn\n",
    "import warnings\n",
    "warnings.filterwarnings(\"ignore\")"
   ]
  },
  {
   "cell_type": "markdown",
   "metadata": {},
   "source": [
    "#### Importing dataset"
   ]
  },
  {
   "cell_type": "code",
   "execution_count": 2,
   "metadata": {},
   "outputs": [
    {
     "name": "stderr",
     "output_type": "stream",
     "text": [
      "b'Skipping line 38554: expected 12 fields, saw 16\\nSkipping line 53649: expected 12 fields, saw 17\\nSkipping line 54548: expected 12 fields, saw 20\\n'\n"
     ]
    },
    {
     "data": {
      "text/html": [
       "<div>\n",
       "<style scoped>\n",
       "    .dataframe tbody tr th:only-of-type {\n",
       "        vertical-align: middle;\n",
       "    }\n",
       "\n",
       "    .dataframe tbody tr th {\n",
       "        vertical-align: top;\n",
       "    }\n",
       "\n",
       "    .dataframe thead th {\n",
       "        text-align: right;\n",
       "    }\n",
       "</style>\n",
       "<table border=\"1\" class=\"dataframe\">\n",
       "  <thead>\n",
       "    <tr style=\"text-align: right;\">\n",
       "      <th></th>\n",
       "      <th>MessageID</th>\n",
       "      <th>ThreadID</th>\n",
       "      <th>ThreadName</th>\n",
       "      <th>Date_Time</th>\n",
       "      <th>MemberID</th>\n",
       "      <th>MemberName</th>\n",
       "      <th>Message</th>\n",
       "      <th>P_Year</th>\n",
       "      <th>P_Month</th>\n",
       "      <th>P_Day</th>\n",
       "      <th>P_Date</th>\n",
       "      <th>ThreadFirstMessageID</th>\n",
       "    </tr>\n",
       "  </thead>\n",
       "  <tbody>\n",
       "    <tr>\n",
       "      <th>0</th>\n",
       "      <td>1000015</td>\n",
       "      <td>5536</td>\n",
       "      <td>Love Animals? Like George Clooney?Are hungry?</td>\n",
       "      <td>2009-03-14 17:32:00</td>\n",
       "      <td>339</td>\n",
       "      <td>Paradox\\t\\t\\t\\t\\t\\t\\t\\t\\t\\t\\t</td>\n",
       "      <td>I don't like celebrity news but this needed to...</td>\n",
       "      <td>2009</td>\n",
       "      <td>3</td>\n",
       "      <td>14</td>\n",
       "      <td>2009-03-14 17:32:00.000</td>\n",
       "      <td>1000015</td>\n",
       "    </tr>\n",
       "    <tr>\n",
       "      <th>1</th>\n",
       "      <td>1000038</td>\n",
       "      <td>5536</td>\n",
       "      <td>Love Animals? Like George Clooney?Are hungry?</td>\n",
       "      <td>2009-03-14 18:08:00</td>\n",
       "      <td>240</td>\n",
       "      <td>Filament\\t\\t\\t\\t\\t\\t\\t\\t\\t\\t\\t</td>\n",
       "      <td>Ew! \"Have courage for the great sorrows of lif...</td>\n",
       "      <td>2009</td>\n",
       "      <td>3</td>\n",
       "      <td>14</td>\n",
       "      <td>2009-03-14 18:08:00.000</td>\n",
       "      <td>1000015</td>\n",
       "    </tr>\n",
       "    <tr>\n",
       "      <th>2</th>\n",
       "      <td>1000069</td>\n",
       "      <td>5536</td>\n",
       "      <td>Love Animals? Like George Clooney?Are hungry?</td>\n",
       "      <td>2009-03-14 19:15:00</td>\n",
       "      <td>988</td>\n",
       "      <td>~*~JiLk@Y~*~\\t\\t\\t\\t\\t\\t\\t\\t\\t\\t\\t</td>\n",
       "      <td>what? I am a traveler seeking the truth, a hum...</td>\n",
       "      <td>2009</td>\n",
       "      <td>3</td>\n",
       "      <td>14</td>\n",
       "      <td>2009-03-14 19:15:00.000</td>\n",
       "      <td>1000015</td>\n",
       "    </tr>\n",
       "    <tr>\n",
       "      <th>3</th>\n",
       "      <td>1000099</td>\n",
       "      <td>5536</td>\n",
       "      <td>Love Animals? Like George Clooney?Are hungry?</td>\n",
       "      <td>2009-03-14 22:15:00</td>\n",
       "      <td>339</td>\n",
       "      <td>Paradox\\t\\t\\t\\t\\t\\t\\t\\t\\t\\t\\t</td>\n",
       "      <td>Well it is as good a time as any to throw the ...</td>\n",
       "      <td>2009</td>\n",
       "      <td>3</td>\n",
       "      <td>14</td>\n",
       "      <td>2009-03-14 22:15:00.000</td>\n",
       "      <td>1000015</td>\n",
       "    </tr>\n",
       "    <tr>\n",
       "      <th>4</th>\n",
       "      <td>1000132</td>\n",
       "      <td>5536</td>\n",
       "      <td>Love Animals? Like George Clooney?Are hungry?</td>\n",
       "      <td>2009-03-14 22:38:00</td>\n",
       "      <td>240</td>\n",
       "      <td>Filament\\t\\t\\t\\t\\t\\t\\t\\t\\t\\t\\t</td>\n",
       "      <td>Ew X infinity. \"Have courage for the great sor...</td>\n",
       "      <td>2009</td>\n",
       "      <td>3</td>\n",
       "      <td>14</td>\n",
       "      <td>2009-03-14 22:38:00.000</td>\n",
       "      <td>1000015</td>\n",
       "    </tr>\n",
       "  </tbody>\n",
       "</table>\n",
       "</div>"
      ],
      "text/plain": [
       "   MessageID  ThreadID                                     ThreadName  \\\n",
       "0    1000015      5536  Love Animals? Like George Clooney?Are hungry?   \n",
       "1    1000038      5536  Love Animals? Like George Clooney?Are hungry?   \n",
       "2    1000069      5536  Love Animals? Like George Clooney?Are hungry?   \n",
       "3    1000099      5536  Love Animals? Like George Clooney?Are hungry?   \n",
       "4    1000132      5536  Love Animals? Like George Clooney?Are hungry?   \n",
       "\n",
       "             Date_Time  MemberID                          MemberName  \\\n",
       "0  2009-03-14 17:32:00       339       Paradox\\t\\t\\t\\t\\t\\t\\t\\t\\t\\t\\t   \n",
       "1  2009-03-14 18:08:00       240      Filament\\t\\t\\t\\t\\t\\t\\t\\t\\t\\t\\t   \n",
       "2  2009-03-14 19:15:00       988  ~*~JiLk@Y~*~\\t\\t\\t\\t\\t\\t\\t\\t\\t\\t\\t   \n",
       "3  2009-03-14 22:15:00       339       Paradox\\t\\t\\t\\t\\t\\t\\t\\t\\t\\t\\t   \n",
       "4  2009-03-14 22:38:00       240      Filament\\t\\t\\t\\t\\t\\t\\t\\t\\t\\t\\t   \n",
       "\n",
       "                                             Message  P_Year  P_Month  P_Day  \\\n",
       "0  I don't like celebrity news but this needed to...    2009        3     14   \n",
       "1  Ew! \"Have courage for the great sorrows of lif...    2009        3     14   \n",
       "2  what? I am a traveler seeking the truth, a hum...    2009        3     14   \n",
       "3  Well it is as good a time as any to throw the ...    2009        3     14   \n",
       "4  Ew X infinity. \"Have courage for the great sor...    2009        3     14   \n",
       "\n",
       "                    P_Date  ThreadFirstMessageID  \n",
       "0  2009-03-14 17:32:00.000               1000015  \n",
       "1  2009-03-14 18:08:00.000               1000015  \n",
       "2  2009-03-14 19:15:00.000               1000015  \n",
       "3  2009-03-14 22:15:00.000               1000015  \n",
       "4  2009-03-14 22:38:00.000               1000015  "
      ]
     },
     "execution_count": 2,
     "metadata": {},
     "output_type": "execute_result"
    }
   ],
   "source": [
    "os.chdir(\"C:/Users/ABC/Desktop/Afgan Forum paper in R/afghanForum\")\n",
    "data=pd.read_csv(\"afghanForum.csv\",error_bad_lines=False)\n",
    "data.head()"
   ]
  },
  {
   "cell_type": "code",
   "execution_count": 3,
   "metadata": {},
   "outputs": [
    {
     "data": {
      "text/plain": [
       "(88032, 2)"
      ]
     },
     "execution_count": 3,
     "metadata": {},
     "output_type": "execute_result"
    }
   ],
   "source": [
    "dat=data[[\"MessageID\",\"Message\"]]\n",
    "dat.shape"
   ]
  },
  {
   "cell_type": "markdown",
   "metadata": {},
   "source": [
    "#### Sentiment Analysis"
   ]
  },
  {
   "cell_type": "code",
   "execution_count": 4,
   "metadata": {},
   "outputs": [],
   "source": [
    "from textblob import TextBlob\n",
    "import re\n",
    "import textblob"
   ]
  },
  {
   "cell_type": "code",
   "execution_count": 5,
   "metadata": {},
   "outputs": [],
   "source": [
    "def clean_text(text): \n",
    "        ''' \n",
    "        Utility function to clean text by removing links,\n",
    "        special characters using simple regex statements. \n",
    "        '''\n",
    "        return ' '.join(re.sub(\"(@[A-Za-z0-9]+)|([^0-9A-Za-z \\t])|(\\w+:\\/\\/\\S+)\", \" \", text).split()) \n",
    "\n",
    "def get_text_sentiment(text):\n",
    "    ''' \n",
    "    Utility function to classify sentiment of passed\n",
    "    text using textblob's sentiment method \n",
    "    '''\n",
    "    # create TextBlob object of passed text \n",
    "    analysis = TextBlob(clean_text(text)) \n",
    "    # set sentiment \n",
    "    if analysis.sentiment.polarity > 0: \n",
    "        return 'positive'\n",
    "    elif analysis.sentiment.polarity == 0: \n",
    "        return 'neutral'\n",
    "    else: \n",
    "        return 'negative'   "
   ]
  },
  {
   "cell_type": "code",
   "execution_count": 6,
   "metadata": {},
   "outputs": [
    {
     "data": {
      "text/html": [
       "<div>\n",
       "<style scoped>\n",
       "    .dataframe tbody tr th:only-of-type {\n",
       "        vertical-align: middle;\n",
       "    }\n",
       "\n",
       "    .dataframe tbody tr th {\n",
       "        vertical-align: top;\n",
       "    }\n",
       "\n",
       "    .dataframe thead th {\n",
       "        text-align: right;\n",
       "    }\n",
       "</style>\n",
       "<table border=\"1\" class=\"dataframe\">\n",
       "  <thead>\n",
       "    <tr style=\"text-align: right;\">\n",
       "      <th></th>\n",
       "      <th>MessageID</th>\n",
       "      <th>Message</th>\n",
       "      <th>Sentiment</th>\n",
       "    </tr>\n",
       "  </thead>\n",
       "  <tbody>\n",
       "    <tr>\n",
       "      <th>0</th>\n",
       "      <td>1000015</td>\n",
       "      <td>I don't like celebrity news but this needed to...</td>\n",
       "      <td>positive</td>\n",
       "    </tr>\n",
       "    <tr>\n",
       "      <th>1</th>\n",
       "      <td>1000038</td>\n",
       "      <td>Ew! \"Have courage for the great sorrows of lif...</td>\n",
       "      <td>positive</td>\n",
       "    </tr>\n",
       "    <tr>\n",
       "      <th>2</th>\n",
       "      <td>1000069</td>\n",
       "      <td>what? I am a traveler seeking the truth, a hum...</td>\n",
       "      <td>positive</td>\n",
       "    </tr>\n",
       "    <tr>\n",
       "      <th>3</th>\n",
       "      <td>1000099</td>\n",
       "      <td>Well it is as good a time as any to throw the ...</td>\n",
       "      <td>positive</td>\n",
       "    </tr>\n",
       "    <tr>\n",
       "      <th>4</th>\n",
       "      <td>1000132</td>\n",
       "      <td>Ew X infinity. \"Have courage for the great sor...</td>\n",
       "      <td>positive</td>\n",
       "    </tr>\n",
       "  </tbody>\n",
       "</table>\n",
       "</div>"
      ],
      "text/plain": [
       "   MessageID                                            Message Sentiment\n",
       "0    1000015  I don't like celebrity news but this needed to...  positive\n",
       "1    1000038  Ew! \"Have courage for the great sorrows of lif...  positive\n",
       "2    1000069  what? I am a traveler seeking the truth, a hum...  positive\n",
       "3    1000099  Well it is as good a time as any to throw the ...  positive\n",
       "4    1000132  Ew X infinity. \"Have courage for the great sor...  positive"
      ]
     },
     "execution_count": 6,
     "metadata": {},
     "output_type": "execute_result"
    }
   ],
   "source": [
    "sentiment = []\n",
    "for message in dat['Message']:\n",
    "    sentiment.append(get_text_sentiment(message))\n",
    "    \n",
    "dat[\"Sentiment\"] = sentiment\n",
    "dat.head()"
   ]
  },
  {
   "cell_type": "code",
   "execution_count": 7,
   "metadata": {},
   "outputs": [],
   "source": [
    "dat['Sentiment_Score'] = dat.Sentiment.map({'positive':1, 'negative':-1,'neutral':0})\n",
    "dat.head()"
   ]
  },
  {
   "cell_type": "markdown",
   "metadata": {},
   "source": [
    "#### Converting text in message column to lower case"
   ]
  },
  {
   "cell_type": "code",
   "execution_count": 8,
   "metadata": {},
   "outputs": [
    {
     "data": {
      "text/html": [
       "<div>\n",
       "<style scoped>\n",
       "    .dataframe tbody tr th:only-of-type {\n",
       "        vertical-align: middle;\n",
       "    }\n",
       "\n",
       "    .dataframe tbody tr th {\n",
       "        vertical-align: top;\n",
       "    }\n",
       "\n",
       "    .dataframe thead th {\n",
       "        text-align: right;\n",
       "    }\n",
       "</style>\n",
       "<table border=\"1\" class=\"dataframe\">\n",
       "  <thead>\n",
       "    <tr style=\"text-align: right;\">\n",
       "      <th></th>\n",
       "      <th>MessageID</th>\n",
       "      <th>Message</th>\n",
       "      <th>Sentiment</th>\n",
       "      <th>Sentiment_Score</th>\n",
       "    </tr>\n",
       "  </thead>\n",
       "  <tbody>\n",
       "    <tr>\n",
       "      <th>0</th>\n",
       "      <td>1000015</td>\n",
       "      <td>i don't like celebrity news but this needed to...</td>\n",
       "      <td>positive</td>\n",
       "      <td>1</td>\n",
       "    </tr>\n",
       "    <tr>\n",
       "      <th>1</th>\n",
       "      <td>1000038</td>\n",
       "      <td>ew! \"have courage for the great sorrows of lif...</td>\n",
       "      <td>positive</td>\n",
       "      <td>1</td>\n",
       "    </tr>\n",
       "    <tr>\n",
       "      <th>2</th>\n",
       "      <td>1000069</td>\n",
       "      <td>what? i am a traveler seeking the truth, a hum...</td>\n",
       "      <td>positive</td>\n",
       "      <td>1</td>\n",
       "    </tr>\n",
       "    <tr>\n",
       "      <th>3</th>\n",
       "      <td>1000099</td>\n",
       "      <td>well it is as good a time as any to throw the ...</td>\n",
       "      <td>positive</td>\n",
       "      <td>1</td>\n",
       "    </tr>\n",
       "    <tr>\n",
       "      <th>4</th>\n",
       "      <td>1000132</td>\n",
       "      <td>ew x infinity. \"have courage for the great sor...</td>\n",
       "      <td>positive</td>\n",
       "      <td>1</td>\n",
       "    </tr>\n",
       "  </tbody>\n",
       "</table>\n",
       "</div>"
      ],
      "text/plain": [
       "   MessageID                                            Message Sentiment  \\\n",
       "0    1000015  i don't like celebrity news but this needed to...  positive   \n",
       "1    1000038  ew! \"have courage for the great sorrows of lif...  positive   \n",
       "2    1000069  what? i am a traveler seeking the truth, a hum...  positive   \n",
       "3    1000099  well it is as good a time as any to throw the ...  positive   \n",
       "4    1000132  ew x infinity. \"have courage for the great sor...  positive   \n",
       "\n",
       "   Sentiment_Score  \n",
       "0                1  \n",
       "1                1  \n",
       "2                1  \n",
       "3                1  \n",
       "4                1  "
      ]
     },
     "execution_count": 8,
     "metadata": {},
     "output_type": "execute_result"
    }
   ],
   "source": [
    "dat['Message'] = [entry.lower() for entry in dat['Message']]\n",
    "dat.head()"
   ]
  },
  {
   "cell_type": "markdown",
   "metadata": {},
   "source": [
    "#### Removing Punctuation and word-tokenization"
   ]
  },
  {
   "cell_type": "code",
   "execution_count": 9,
   "metadata": {},
   "outputs": [],
   "source": [
    "from nltk.tokenize import RegexpTokenizer\n",
    "tokenizer = RegexpTokenizer(r'\\w+')\n",
    "dat['Message']= [tokenizer.tokenize(entry) for entry in dat['Message']]"
   ]
  },
  {
   "cell_type": "code",
   "execution_count": 10,
   "metadata": {},
   "outputs": [],
   "source": [
    "dat['Message']=[\" \".join(content) for content in dat['Message'].values]"
   ]
  },
  {
   "cell_type": "markdown",
   "metadata": {},
   "source": [
    "#### Removing Stop Words"
   ]
  },
  {
   "cell_type": "code",
   "execution_count": 11,
   "metadata": {},
   "outputs": [
    {
     "data": {
      "text/html": [
       "<div>\n",
       "<style scoped>\n",
       "    .dataframe tbody tr th:only-of-type {\n",
       "        vertical-align: middle;\n",
       "    }\n",
       "\n",
       "    .dataframe tbody tr th {\n",
       "        vertical-align: top;\n",
       "    }\n",
       "\n",
       "    .dataframe thead th {\n",
       "        text-align: right;\n",
       "    }\n",
       "</style>\n",
       "<table border=\"1\" class=\"dataframe\">\n",
       "  <thead>\n",
       "    <tr style=\"text-align: right;\">\n",
       "      <th></th>\n",
       "      <th>MessageID</th>\n",
       "      <th>Message</th>\n",
       "      <th>Sentiment</th>\n",
       "      <th>Sentiment_Score</th>\n",
       "    </tr>\n",
       "  </thead>\n",
       "  <tbody>\n",
       "    <tr>\n",
       "      <th>0</th>\n",
       "      <td>1000015</td>\n",
       "      <td>like celebrity news needed told news link lett...</td>\n",
       "      <td>positive</td>\n",
       "      <td>1</td>\n",
       "    </tr>\n",
       "    <tr>\n",
       "      <th>1</th>\n",
       "      <td>1000038</td>\n",
       "      <td>ew courage great sorrows life patience small o...</td>\n",
       "      <td>positive</td>\n",
       "      <td>1</td>\n",
       "    </tr>\n",
       "    <tr>\n",
       "      <th>2</th>\n",
       "      <td>1000069</td>\n",
       "      <td>traveler seeking truth human searching meaning...</td>\n",
       "      <td>positive</td>\n",
       "      <td>1</td>\n",
       "    </tr>\n",
       "    <tr>\n",
       "      <th>3</th>\n",
       "      <td>1000099</td>\n",
       "      <td>well good time throw offer paypal account reas...</td>\n",
       "      <td>positive</td>\n",
       "      <td>1</td>\n",
       "    </tr>\n",
       "    <tr>\n",
       "      <th>4</th>\n",
       "      <td>1000132</td>\n",
       "      <td>ew x infinity courage great sorrows life patie...</td>\n",
       "      <td>positive</td>\n",
       "      <td>1</td>\n",
       "    </tr>\n",
       "  </tbody>\n",
       "</table>\n",
       "</div>"
      ],
      "text/plain": [
       "   MessageID                                            Message Sentiment  \\\n",
       "0    1000015  like celebrity news needed told news link lett...  positive   \n",
       "1    1000038  ew courage great sorrows life patience small o...  positive   \n",
       "2    1000069  traveler seeking truth human searching meaning...  positive   \n",
       "3    1000099  well good time throw offer paypal account reas...  positive   \n",
       "4    1000132  ew x infinity courage great sorrows life patie...  positive   \n",
       "\n",
       "   Sentiment_Score  \n",
       "0                1  \n",
       "1                1  \n",
       "2                1  \n",
       "3                1  \n",
       "4                1  "
      ]
     },
     "execution_count": 11,
     "metadata": {},
     "output_type": "execute_result"
    }
   ],
   "source": [
    "from nltk.corpus import stopwords\n",
    "stop = stopwords.words('english')\n",
    "dat['Message']=dat['Message'].apply(lambda x: \" \".join(x for x in x.split() if x not in stop))\n",
    "dat.head()"
   ]
  },
  {
   "cell_type": "markdown",
   "metadata": {},
   "source": [
    "#### Modelling Process"
   ]
  },
  {
   "cell_type": "code",
   "execution_count": 12,
   "metadata": {},
   "outputs": [],
   "source": [
    "from sklearn.feature_extraction.text import TfidfVectorizer\n",
    "from sklearn import model_selection, naive_bayes, svm\n",
    "from sklearn.metrics import accuracy_score,confusion_matrix,classification_report"
   ]
  },
  {
   "cell_type": "code",
   "execution_count": 13,
   "metadata": {},
   "outputs": [],
   "source": [
    "Y=dat[\"Sentiment_Score\"]"
   ]
  },
  {
   "cell_type": "markdown",
   "metadata": {},
   "source": [
    "#### SPlitting Data into 70:30"
   ]
  },
  {
   "cell_type": "code",
   "execution_count": 14,
   "metadata": {},
   "outputs": [
    {
     "name": "stdout",
     "output_type": "stream",
     "text": [
      "(61622,) (26410,) (61622,) (26410,)\n"
     ]
    }
   ],
   "source": [
    "Train_X, Test_X, Train_Y, Test_Y = model_selection.train_test_split(dat['Message'],Y,test_size=0.3)\n",
    "print(Train_X.shape,Test_X.shape,Train_Y.shape,Test_Y.shape)"
   ]
  },
  {
   "cell_type": "markdown",
   "metadata": {},
   "source": [
    "#### TFIDF Vectorizer"
   ]
  },
  {
   "cell_type": "code",
   "execution_count": 15,
   "metadata": {},
   "outputs": [],
   "source": [
    "Tfidf_vect = TfidfVectorizer(stop_words='english')\n",
    "Train_X_Tfidf = Tfidf_vect.fit_transform(Train_X)\n",
    "Test_X_Tfidf = Tfidf_vect.transform(Test_X)"
   ]
  },
  {
   "cell_type": "markdown",
   "metadata": {},
   "source": [
    "#### GBM CLassifier on train data"
   ]
  },
  {
   "cell_type": "code",
   "execution_count": 17,
   "metadata": {},
   "outputs": [
    {
     "data": {
      "text/plain": [
       "0.7567427217552173"
      ]
     },
     "execution_count": 17,
     "metadata": {},
     "output_type": "execute_result"
    }
   ],
   "source": [
    "from sklearn.ensemble import GradientBoostingClassifier\n",
    "gbm1 = GradientBoostingClassifier(random_state=10)\n",
    "gbm1.fit(Train_X_Tfidf,Train_Y)\n",
    "gbm1.score(Train_X_Tfidf,Train_Y)"
   ]
  },
  {
   "cell_type": "markdown",
   "metadata": {},
   "source": [
    "#### Evaluation Of performance Metrices"
   ]
  },
  {
   "cell_type": "code",
   "execution_count": 20,
   "metadata": {},
   "outputs": [
    {
     "name": "stdout",
     "output_type": "stream",
     "text": [
      "Confusion Matrix:\n",
      "[[ 1297   175  2843]\n",
      " [    8  1345  3054]\n",
      " [  208   260 17220]]\n"
     ]
    }
   ],
   "source": [
    "prediction_gbm1 = gbm1.predict(Test_X_Tfidf)\n",
    "\n",
    "print(\"Confusion Matrix:\")\n",
    "print(confusion_matrix(Test_Y, prediction_gbm1))"
   ]
  },
  {
   "cell_type": "code",
   "execution_count": 21,
   "metadata": {},
   "outputs": [
    {
     "name": "stdout",
     "output_type": "stream",
     "text": [
      "Classification Report\n",
      "              precision    recall  f1-score   support\n",
      "\n",
      "          -1       0.86      0.30      0.45      4315\n",
      "           0       0.76      0.31      0.43      4407\n",
      "           1       0.74      0.97      0.84     17688\n",
      "\n",
      "   micro avg       0.75      0.75      0.75     26410\n",
      "   macro avg       0.79      0.53      0.57     26410\n",
      "weighted avg       0.77      0.75      0.71     26410\n",
      "\n"
     ]
    }
   ],
   "source": [
    "print(\"Classification Report\")\n",
    "print(classification_report(Test_Y, prediction_gbm1))"
   ]
  },
  {
   "cell_type": "markdown",
   "metadata": {},
   "source": [
    "#### C 5.0  Classifier on train data"
   ]
  },
  {
   "cell_type": "code",
   "execution_count": 42,
   "metadata": {},
   "outputs": [
    {
     "name": "stdout",
     "output_type": "stream",
     "text": [
      "Decision tree Accuracy Score ->  67.03142748958729\n"
     ]
    }
   ],
   "source": [
    "from sklearn import tree\n",
    "dec_tree1=tree.DecisionTreeClassifier(max_depth=5,random_state=42,criterion=\"entropy\")\n",
    "dec_tree1.fit(Train_X_Tfidf,Train_Y)\n",
    "predictions_tree1= dec_tree1.predict(Test_X_Tfidf)\n",
    "\n",
    "print(\"Decision tree Accuracy Score -> \",accuracy_score(predictions_tree1, Test_Y)*100)"
   ]
  },
  {
   "cell_type": "markdown",
   "metadata": {},
   "source": [
    "#### Evaluation Of performance Metrices"
   ]
  },
  {
   "cell_type": "code",
   "execution_count": 43,
   "metadata": {},
   "outputs": [
    {
     "name": "stdout",
     "output_type": "stream",
     "text": [
      "              precision    recall  f1-score   support\n",
      "\n",
      "          -1       0.55      0.02      0.04      4315\n",
      "           0       0.00      0.00      0.00      4407\n",
      "           1       0.67      1.00      0.80     17688\n",
      "\n",
      "   micro avg       0.67      0.67      0.67     26410\n",
      "   macro avg       0.41      0.34      0.28     26410\n",
      "weighted avg       0.54      0.67      0.54     26410\n",
      "\n"
     ]
    }
   ],
   "source": [
    "print(classification_report(Test_Y, predictions_tree1))"
   ]
  },
  {
   "cell_type": "code",
   "execution_count": 44,
   "metadata": {},
   "outputs": [
    {
     "data": {
      "text/plain": [
       "array([[   78,     0,  4237],\n",
       "       [    0,     0,  4407],\n",
       "       [   63,     0, 17625]], dtype=int64)"
      ]
     },
     "execution_count": 44,
     "metadata": {},
     "output_type": "execute_result"
    }
   ],
   "source": [
    "confusion_matrix(Test_Y, predictions_tree1)"
   ]
  },
  {
   "cell_type": "markdown",
   "metadata": {},
   "source": [
    "#### Bagging CLassifier on train data"
   ]
  },
  {
   "cell_type": "code",
   "execution_count": 23,
   "metadata": {},
   "outputs": [
    {
     "data": {
      "text/plain": [
       "0.9960566031612087"
      ]
     },
     "execution_count": 23,
     "metadata": {},
     "output_type": "execute_result"
    }
   ],
   "source": [
    "from sklearn.ensemble import BaggingClassifier\n",
    "from sklearn.tree import DecisionTreeClassifier\n",
    "Bag=BaggingClassifier(oob_score=True,n_jobs=-1,n_estimators=20,random_state=400,\n",
    "                      base_estimator=DecisionTreeClassifier())\n",
    "Bag.fit(Train_X_Tfidf,Train_Y)\n",
    "Bag.score(Train_X_Tfidf,Train_Y)"
   ]
  },
  {
   "cell_type": "markdown",
   "metadata": {},
   "source": [
    "#### Evaluation Of performance Metrices"
   ]
  },
  {
   "cell_type": "code",
   "execution_count": 24,
   "metadata": {},
   "outputs": [
    {
     "name": "stdout",
     "output_type": "stream",
     "text": [
      "Confusion Matrix:\n",
      "[[ 2250   365  1700]\n",
      " [   64  3957   386]\n",
      " [  761   585 16342]]\n"
     ]
    }
   ],
   "source": [
    "prediction_bag = Bag.predict(Test_X_Tfidf)\n",
    "\n",
    "print(\"Confusion Matrix:\")\n",
    "print(confusion_matrix(Test_Y, prediction_bag))"
   ]
  },
  {
   "cell_type": "code",
   "execution_count": 26,
   "metadata": {},
   "outputs": [
    {
     "data": {
      "text/plain": [
       "0.8538053767512306"
      ]
     },
     "execution_count": 26,
     "metadata": {},
     "output_type": "execute_result"
    }
   ],
   "source": [
    "accuracy_score(Test_Y, prediction_bag)"
   ]
  },
  {
   "cell_type": "code",
   "execution_count": 25,
   "metadata": {},
   "outputs": [
    {
     "name": "stdout",
     "output_type": "stream",
     "text": [
      "Classification Report\n",
      "              precision    recall  f1-score   support\n",
      "\n",
      "          -1       0.73      0.52      0.61      4315\n",
      "           0       0.81      0.90      0.85      4407\n",
      "           1       0.89      0.92      0.90     17688\n",
      "\n",
      "   micro avg       0.85      0.85      0.85     26410\n",
      "   macro avg       0.81      0.78      0.79     26410\n",
      "weighted avg       0.85      0.85      0.85     26410\n",
      "\n"
     ]
    }
   ],
   "source": [
    "print(\"Classification Report\")\n",
    "print(classification_report(Test_Y, prediction_bag))"
   ]
  },
  {
   "cell_type": "markdown",
   "metadata": {},
   "source": [
    "#### Random Forest Classifier on train data"
   ]
  },
  {
   "cell_type": "code",
   "execution_count": 28,
   "metadata": {},
   "outputs": [
    {
     "name": "stdout",
     "output_type": "stream",
     "text": [
      "Random Forest Accuracy Score ->  66.97463082165847\n"
     ]
    }
   ],
   "source": [
    "from sklearn.ensemble import RandomForestClassifier\n",
    "rf= RandomForestClassifier(n_estimators=100, max_depth=2,random_state=0)\n",
    "rf.fit(Train_X_Tfidf,Train_Y)\n",
    "predictions_rf = rf.predict(Test_X_Tfidf)\n",
    "\n",
    "print(\"Random Forest Accuracy Score -> \",accuracy_score(predictions_rf, Test_Y)*100)\n"
   ]
  },
  {
   "cell_type": "markdown",
   "metadata": {},
   "source": [
    "#### Evaluation Of performance Metrices"
   ]
  },
  {
   "cell_type": "code",
   "execution_count": 29,
   "metadata": {},
   "outputs": [
    {
     "data": {
      "text/plain": [
       "array([[    0,     0,  4315],\n",
       "       [    0,     0,  4407],\n",
       "       [    0,     0, 17688]], dtype=int64)"
      ]
     },
     "execution_count": 29,
     "metadata": {},
     "output_type": "execute_result"
    }
   ],
   "source": [
    "confusion_matrix(Test_Y, predictions_rf)"
   ]
  },
  {
   "cell_type": "code",
   "execution_count": 30,
   "metadata": {},
   "outputs": [
    {
     "name": "stdout",
     "output_type": "stream",
     "text": [
      "Classification Report\n",
      "              precision    recall  f1-score   support\n",
      "\n",
      "          -1       0.00      0.00      0.00      4315\n",
      "           0       0.00      0.00      0.00      4407\n",
      "           1       0.67      1.00      0.80     17688\n",
      "\n",
      "   micro avg       0.67      0.67      0.67     26410\n",
      "   macro avg       0.22      0.33      0.27     26410\n",
      "weighted avg       0.45      0.67      0.54     26410\n",
      "\n"
     ]
    }
   ],
   "source": [
    "print(\"Classification Report\")\n",
    "print(classification_report(Test_Y, predictions_rf))"
   ]
  },
  {
   "cell_type": "markdown",
   "metadata": {},
   "source": [
    "#### Decision Tree Classifier CLassifier on train data"
   ]
  },
  {
   "cell_type": "code",
   "execution_count": 32,
   "metadata": {},
   "outputs": [
    {
     "name": "stdout",
     "output_type": "stream",
     "text": [
      "Decision tree Accuracy Score ->  67.00870882241576\n"
     ]
    }
   ],
   "source": [
    "from sklearn import tree\n",
    "dec_tree=tree.DecisionTreeClassifier(max_depth=3,random_state=0)\n",
    "dec_tree.fit(Train_X_Tfidf,Train_Y)\n",
    "predictions_tree= dec_tree.predict(Test_X_Tfidf)\n",
    "\n",
    "print(\"Decision tree Accuracy Score -> \",accuracy_score(predictions_tree, Test_Y)*100)"
   ]
  },
  {
   "cell_type": "markdown",
   "metadata": {},
   "source": [
    "#### Evaluation Of performance Metrices"
   ]
  },
  {
   "cell_type": "code",
   "execution_count": 33,
   "metadata": {},
   "outputs": [
    {
     "name": "stdout",
     "output_type": "stream",
     "text": [
      "              precision    recall  f1-score   support\n",
      "\n",
      "          -1       0.62      0.01      0.01      4315\n",
      "           0       0.00      0.00      0.00      4407\n",
      "           1       0.67      1.00      0.80     17688\n",
      "\n",
      "   micro avg       0.67      0.67      0.67     26410\n",
      "   macro avg       0.43      0.33      0.27     26410\n",
      "weighted avg       0.55      0.67      0.54     26410\n",
      "\n"
     ]
    }
   ],
   "source": [
    "print(classification_report(Test_Y, predictions_tree))"
   ]
  },
  {
   "cell_type": "code",
   "execution_count": 34,
   "metadata": {},
   "outputs": [
    {
     "data": {
      "text/plain": [
       "array([[   23,     0,  4292],\n",
       "       [    0,     0,  4407],\n",
       "       [   14,     0, 17674]], dtype=int64)"
      ]
     },
     "execution_count": 34,
     "metadata": {},
     "output_type": "execute_result"
    }
   ],
   "source": [
    "confusion_matrix(Test_Y, predictions_tree)"
   ]
  },
  {
   "cell_type": "markdown",
   "metadata": {},
   "source": [
    "#### Logistic Regression on train data"
   ]
  },
  {
   "cell_type": "code",
   "execution_count": 36,
   "metadata": {},
   "outputs": [
    {
     "name": "stdout",
     "output_type": "stream",
     "text": [
      "Logistic Regression Accuracy Score ->  86.72472548277167\n"
     ]
    }
   ],
   "source": [
    "from sklearn.linear_model import LogisticRegression\n",
    "log=LogisticRegression(random_state=0)\n",
    "log.fit(Train_X_Tfidf,Train_Y)\n",
    "predictions_log= log.predict(Test_X_Tfidf)\n",
    "\n",
    "print(\"Logistic Regression Accuracy Score -> \",accuracy_score(predictions_log, Test_Y)*100)"
   ]
  },
  {
   "cell_type": "markdown",
   "metadata": {},
   "source": [
    "#### Evaluation Of performance Metrices"
   ]
  },
  {
   "cell_type": "code",
   "execution_count": 37,
   "metadata": {},
   "outputs": [
    {
     "name": "stdout",
     "output_type": "stream",
     "text": [
      "              precision    recall  f1-score   support\n",
      "\n",
      "          -1       0.89      0.52      0.66      4315\n",
      "           0       0.81      0.84      0.82      4407\n",
      "           1       0.88      0.96      0.92     17688\n",
      "\n",
      "   micro avg       0.87      0.87      0.87     26410\n",
      "   macro avg       0.86      0.77      0.80     26410\n",
      "weighted avg       0.87      0.87      0.86     26410\n",
      "\n"
     ]
    }
   ],
   "source": [
    "print(classification_report(Test_Y, predictions_log))"
   ]
  },
  {
   "cell_type": "code",
   "execution_count": 38,
   "metadata": {},
   "outputs": [
    {
     "data": {
      "text/plain": [
       "array([[ 2234,   418,  1663],\n",
       "       [   36,  3685,   686],\n",
       "       [  235,   468, 16985]], dtype=int64)"
      ]
     },
     "execution_count": 38,
     "metadata": {},
     "output_type": "execute_result"
    }
   ],
   "source": [
    "confusion_matrix(Test_Y, predictions_log)"
   ]
  },
  {
   "cell_type": "markdown",
   "metadata": {},
   "source": [
    "#### SVM  on train data"
   ]
  },
  {
   "cell_type": "code",
   "execution_count": 45,
   "metadata": {},
   "outputs": [
    {
     "name": "stdout",
     "output_type": "stream",
     "text": [
      "SVM Accuracy Score ->  88.71639530480878\n"
     ]
    }
   ],
   "source": [
    "SVM= svm.SVC(C=1.0, kernel='linear', degree=3, gamma='auto')\n",
    "SVM.fit(Train_X_Tfidf,Train_Y)\n",
    "predictions_SVM= SVM.predict(Test_X_Tfidf)\n",
    "\n",
    "print(\"SVM Accuracy Score -> \",accuracy_score(predictions_SVM, Test_Y)*100)"
   ]
  },
  {
   "cell_type": "code",
   "execution_count": 47,
   "metadata": {},
   "outputs": [
    {
     "name": "stdout",
     "output_type": "stream",
     "text": [
      "              precision    recall  f1-score   support\n",
      "\n",
      "          -1       0.85      0.64      0.73      4315\n",
      "           0       0.81      0.91      0.85      4407\n",
      "           1       0.92      0.94      0.93     17688\n",
      "\n",
      "   micro avg       0.89      0.89      0.89     26410\n",
      "   macro avg       0.86      0.83      0.84     26410\n",
      "weighted avg       0.89      0.89      0.88     26410\n",
      "\n"
     ]
    }
   ],
   "source": [
    "print(classification_report(Test_Y, predictions_SVM))"
   ]
  },
  {
   "cell_type": "code",
   "execution_count": 48,
   "metadata": {},
   "outputs": [
    {
     "data": {
      "text/plain": [
       "array([[ 2760,   380,  1175],\n",
       "       [   69,  4004,   334],\n",
       "       [  436,   586, 16666]], dtype=int64)"
      ]
     },
     "execution_count": 48,
     "metadata": {},
     "output_type": "execute_result"
    }
   ],
   "source": [
    "confusion_matrix(Test_Y, predictions_SVM)"
   ]
  },
  {
   "cell_type": "code",
   "execution_count": null,
   "metadata": {},
   "outputs": [],
   "source": []
  }
 ],
 "metadata": {
  "kernelspec": {
   "display_name": "Python 3",
   "language": "python",
   "name": "python3"
  },
  "language_info": {
   "codemirror_mode": {
    "name": "ipython",
    "version": 3
   },
   "file_extension": ".py",
   "mimetype": "text/x-python",
   "name": "python",
   "nbconvert_exporter": "python",
   "pygments_lexer": "ipython3",
   "version": "3.7.1"
  }
 },
 "nbformat": 4,
 "nbformat_minor": 2
}
